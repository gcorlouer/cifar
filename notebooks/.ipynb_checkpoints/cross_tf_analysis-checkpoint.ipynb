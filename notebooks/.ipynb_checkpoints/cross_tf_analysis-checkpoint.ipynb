{
 "cells": [
  {
   "cell_type": "code",
   "execution_count": 7,
   "id": "e4c8d9bf",
   "metadata": {},
   "outputs": [],
   "source": [
    "# Import libraries\n",
    "import matplotlib.pyplot as plt\n",
    "import pandas as pd\n",
    "from pathlib import Path"
   ]
  },
  {
   "cell_type": "code",
   "execution_count": 22,
   "id": "95d54139",
   "metadata": {},
   "outputs": [],
   "source": [
    "# Get arguments from input_config\n",
    "%run ../src/input_config.py"
   ]
  },
  {
   "cell_type": "code",
   "execution_count": 8,
   "id": "e43dc250",
   "metadata": {},
   "outputs": [],
   "source": [
    "fpath = Path('..','data_transfer')\n",
    "fname = \"tf_power_dataframe.pkl\"\n",
    "fpath = fpath.joinpath(fname)\n",
    "df = pd.read_pickle(fpath)"
   ]
  },
  {
   "cell_type": "code",
   "execution_count": 18,
   "id": "e10e996b",
   "metadata": {},
   "outputs": [],
   "source": [
    "# Write plotting function to plot Time freq for each subjects\n",
    "conditions = ['Rest', 'Face', 'Place']\n",
    "groups = ['R','O','F']\n",
    "ngroup = 3\n",
    "ncdt = 3\n",
    "%matplotlib qt\n",
    "vmax = 15\n",
    "vmin = -vmax\n",
    "subject = 'DiAs'\n",
    "df_sub = df['power'].loc[df['subject']==subject]\n",
    "from mne.viz import centers_to_edges\n",
    "fig, ax = plt.subplots(ngroup, ncdt, sharex=True, sharey=True)\n",
    "for i, condition in enumerate(conditions):\n",
    "    for j, group in enumerate(groups):\n",
    "        power = df['power'].loc[df['subject']==subject].loc[df['condition']==condition].loc[df['group']==group]\n",
    "        freqs = df['freqs'].loc[df['subject']==subject].loc[df['condition']==condition].loc[df['group']==group]\n",
    "        time = df['time'].loc[df['subject']==subject].loc[df['condition']==condition].loc[df['group']==group]\n",
    "        power = power.iloc[0]\n",
    "        freqs = freqs.iloc[0]\n",
    "        time = time.iloc[0]\n",
    "        x, y = centers_to_edges(time * 1000, freqs)\n",
    "        mesh = ax[i,j].pcolormesh(x, y, power, cmap='RdBu_r', vmin=vmin, vmax=vmax)\n",
    "        ax[i,j].set_title(f'{group} Power during {condition}')\n",
    "        ax[i,j].set(ylim=[0, 50], xlabel='Time (ms)', ylabel='Freq (Hz)')\n",
    "fig.colorbar(mesh)\n",
    "plt.tight_layout()\n",
    "plt.show()"
   ]
  },
  {
   "cell_type": "code",
   "execution_count": 3,
   "id": "7b411a40",
   "metadata": {},
   "outputs": [],
   "source": [
    "%matplotlib qt\n",
    "%run ../scripts/plot_scripts/plot_time_frequency.py"
   ]
  },
  {
   "cell_type": "code",
   "execution_count": null,
   "id": "1fd5522f",
   "metadata": {},
   "outputs": [],
   "source": []
  },
  {
   "cell_type": "code",
   "execution_count": null,
   "id": "7a097474",
   "metadata": {},
   "outputs": [],
   "source": []
  },
  {
   "cell_type": "code",
   "execution_count": null,
   "id": "b491e6ed",
   "metadata": {},
   "outputs": [],
   "source": []
  },
  {
   "cell_type": "code",
   "execution_count": null,
   "id": "08e546e2",
   "metadata": {},
   "outputs": [],
   "source": []
  },
  {
   "cell_type": "code",
   "execution_count": null,
   "id": "999b8e86",
   "metadata": {},
   "outputs": [],
   "source": []
  },
  {
   "cell_type": "code",
   "execution_count": null,
   "id": "5d80a028",
   "metadata": {},
   "outputs": [],
   "source": []
  }
 ],
 "metadata": {
  "kernelspec": {
   "display_name": "Python 3",
   "language": "python",
   "name": "python3"
  },
  "language_info": {
   "codemirror_mode": {
    "name": "ipython",
    "version": 3
   },
   "file_extension": ".py",
   "mimetype": "text/x-python",
   "name": "python",
   "nbconvert_exporter": "python",
   "pygments_lexer": "ipython3",
   "version": "3.10.5"
  }
 },
 "nbformat": 4,
 "nbformat_minor": 5
}
